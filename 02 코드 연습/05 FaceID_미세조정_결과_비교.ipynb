
{
  "nbformat": 4,
  "nbformat_minor": 0,
  "metadata": {
    "colab": {
      "name": "FaceID 미세조정 결과 비교.ipynb",
      "provenance": [],
      "collapsed_sections": []
    },
    "kernelspec": {
      "name": "python3",
      "display_name": "Python 3"
    },
    "language_info": {
      "name": "python"
    }
  },
  "cells": [
    {
      "cell_type": "markdown",
      "metadata": {
        "id": "EMjAFeTj7AYh"
      },
      "source": [
        "# 0 환경 설정"
      ]
    },
    {
      "cell_type": "code",
      "metadata": {
        "colab": {
          "base_uri": "https://localhost:8080/"
        },
        "id": "jUqQSCbGC8e5",
        "outputId": "5740ed96-6b55-432f-8eae-8cc5420162dd"
      },
      "source": [
        "!sudo apt-get install -y fonts-nanum\n",
        "!sudo fc-cache -fv\n",
        "!rm ~/.cache/matplotlib -rf\n",
        "\n",
        "import matplotlib.pyplot as plt\n",
        "\n",
        "plt.rc('font', family='NanumBarunGothic') "
      ],
      "execution_count": 1,
      "outputs": [
        {
          "output_type": "stream",
          "name": "stdout",
          "text": [
            "Reading package lists... Done\n",
            "Building dependency tree       \n",
            "Reading state information... Done\n",
            "fonts-nanum is already the newest version (20170925-1).\n",
            "0 upgraded, 0 newly installed, 0 to remove and 37 not upgraded.\n",
            "/usr/share/fonts: caching, new cache contents: 0 fonts, 1 dirs\n",
            "/usr/share/fonts/truetype: caching, new cache contents: 0 fonts, 3 dirs\n",
            "/usr/share/fonts/truetype/humor-sans: caching, new cache contents: 1 fonts, 0 dirs\n",
            "/usr/share/fonts/truetype/liberation: caching, new cache contents: 16 fonts, 0 dirs\n",
            "/usr/share/fonts/truetype/nanum: caching, new cache contents: 10 fonts, 0 dirs\n",
            "/usr/local/share/fonts: caching, new cache contents: 0 fonts, 0 dirs\n",
            "/root/.local/share/fonts: skipping, no such directory\n",
            "/root/.fonts: skipping, no such directory\n",
            "/var/cache/fontconfig: cleaning cache directory\n",
            "/root/.cache/fontconfig: not cleaning non-existent cache directory\n",
            "/root/.fontconfig: not cleaning non-existent cache directory\n",
            "fc-cache: succeeded\n"
          ]
        }
      ]
    },
    {
      "cell_type": "markdown",
      "metadata": {
        "id": "t5FDxYws5tq8"
      },
      "source": [
        "# 1. 데이터 전처리"
      ]
    },
    {
      "cell_type": "code",
      "metadata": {
        "colab": {
          "base_uri": "https://localhost:8080/",
          "height": 17
        },
        "id": "jJf-qKha1tIN",
        "outputId": "38c92efe-d9cd-4959-ecd7-c3385a7ef5f8"
      },
      "source": [
        "fine_tuning01 = \"\"\"\n",
        "Epoch 1/8\n",
        "----------\n",
        "Train |   174/174  | loss:    4.5792 | fps:    9.2119 | acc:    0.0830   \n",
        "Valid |    44/44   | loss:    4.4895 | fps:   28.4783 | acc:    0.0745   \n",
        "\n",
        "Epoch 2/8\n",
        "----------\n",
        "Train |   174/174  | loss:    2.3902 | fps:    9.6076 | acc:    0.4032   \n",
        "Valid |    44/44   | loss:    2.0684 | fps:   27.7559 | acc:    0.4327   \n",
        "\n",
        "Epoch 3/8\n",
        "----------\n",
        "Train |   174/174  | loss:    1.0903 | fps:    9.5416 | acc:    0.7293   \n",
        "Valid |    44/44   | loss:    2.1898 | fps:   27.8677 | acc:    0.4786   \n",
        "\n",
        "Epoch 4/8\n",
        "----------\n",
        "Train |   174/174  | loss:    0.5100 | fps:    9.5267 | acc:    0.8797   \n",
        "Valid |    44/44   | loss:    0.8549 | fps:   27.7706 | acc:    0.7635   \n",
        "\n",
        "Epoch 5/8\n",
        "----------\n",
        "Train |   174/174  | loss:    0.2890 | fps:    8.9395 | acc:    0.9370   \n",
        "Valid |    44/44   | loss:    0.5499 | fps:   26.3761 | acc:    0.8484   \n",
        "\n",
        "Epoch 6/8\n",
        "----------\n",
        "Train |   174/174  | loss:    0.1190 | fps:    9.0287 | acc:    0.9790   \n",
        "Valid |    44/44   | loss:    0.1956 | fps:   27.0960 | acc:    0.9482   \n",
        "\n",
        "Epoch 7/8\n",
        "----------\n",
        "Train |   174/174  | loss:    0.0677 | fps:    9.2442 | acc:    0.9907   \n",
        "Valid |    44/44   | loss:    0.1828 | fps:   27.9821 | acc:    0.9524   \n",
        "\n",
        "Epoch 8/8\n",
        "----------\n",
        "Train |   174/174  | loss:    0.0546 | fps:    9.4453 | acc:    0.9925   \n",
        "Valid |    44/44   | loss:    0.1710 | fps:   28.0204 | acc:    0.9531 \n",
        "\"\"\""
      ],
      "execution_count": 93,
      "outputs": [
        {
          "output_type": "display_data",
          "data": {
            "text/html": [
              "<style>pre { white-space: pre-wrap; }</style>"
            ],
            "text/plain": [
              "<IPython.core.display.HTML object>"
            ]
          },
          "metadata": {}
        }
      ]
    },
    {
      "cell_type": "code",
      "metadata": {
        "id": "BZrsndvcDDuD",
        "colab": {
          "base_uri": "https://localhost:8080/",
          "height": 17
        },
        "outputId": "45277ec6-4e68-45aa-aba6-f7dafed9211a"
      },
      "source": [
        "fine_tuning02 = \"\"\"\n",
        "Epoch 1/10\n",
        "----------\n",
        "Train |  5693/5693 | loss:    3.3106 | fps:   10.2670 | acc:    0.2260   \n",
        "Valid |  1424/1424 | loss:    1.5108 | fps:   36.6531 | acc:    0.5558   \n",
        "\n",
        "Epoch 2/10\n",
        "----------\n",
        "Train |  5693/5693 | loss:    1.0629 | fps:   11.2976 | acc:    0.6912   \n",
        "Valid |  1424/1424 | loss:    0.4457 | fps:   36.3513 | acc:    0.8689   \n",
        "\n",
        "Epoch 3/10\n",
        "----------\n",
        "Train |  5693/5693 | loss:    0.5812 | fps:   11.2516 | acc:    0.8256   \n",
        "Valid |  1424/1424 | loss:    0.3030 | fps:   36.6162 | acc:    0.9075   \n",
        "\n",
        "Epoch 4/10\n",
        "----------\n",
        "Train |  5693/5693 | loss:    0.3997 | fps:   11.2056 | acc:    0.8793   \n",
        "Valid |  1424/1424 | loss:    0.2673 | fps:   36.5400 | acc:    0.9157\n",
        "\n",
        "Epoch 5/10\n",
        "----------\n",
        "Train |  5693/5693 | loss:    0.2945 | fps:   11.2004 | acc:    0.9092   \n",
        "Valid |  1424/1424 | loss:    0.3371 | fps:   36.2728 | acc:    0.8997   \n",
        "\n",
        "Epoch 6/10\n",
        "----------\n",
        "Train |  5693/5693 | loss:    0.1063 | fps:   11.2462 | acc:    0.9661   \n",
        "Valid |  1424/1424 | loss:    0.0561 | fps:   36.3452 | acc:    0.9823   \n",
        "\n",
        "Epoch 7/10\n",
        "----------\n",
        "Train |  5693/5693 | loss:    0.0715 | fps:   11.2044 | acc:    0.9767   \n",
        "Valid |  1424/1424 | loss:    0.0520 | fps:   37.7104 | acc:    0.9824   \n",
        "\n",
        "Epoch 8/10\n",
        "----------\n",
        "Train |  5693/5693 | loss:    0.0607 | fps:   11.5880 | acc:    0.9797   \n",
        "Valid |  1424/1424 | loss:    0.0489 | fps:   37.9057 | acc:    0.9837   \n",
        "\n",
        "Epoch 9/10\n",
        "----------\n",
        "Train |  5693/5693 | loss:    0.0535 | fps:   11.6075 | acc:    0.9816   \n",
        "Valid |  1424/1424 | loss:    0.0498 | fps:   37.7392 | acc:    0.9830   \n",
        "\n",
        "Epoch 10/10\n",
        "----------\n",
        "Train |  5693/5693 | loss:    0.0491 | fps:   11.5842 | acc:    0.9827   \n",
        "Valid |  1424/1424 | loss:    0.0484 | fps:   37.5482 | acc:    0.9830   \n",
        "\"\"\""
      ],
      "execution_count": 92,
      "outputs": [
        {
          "output_type": "display_data",
          "data": {
            "text/html": [
              "<style>pre { white-space: pre-wrap; }</style>"
            ],
            "text/plain": [
              "<IPython.core.display.HTML object>"
            ]
          },
          "metadata": {}
        }
      ]
    },
    {
      "cell_type": "code",
      "metadata": {
        "colab": {
          "base_uri": "https://localhost:8080/",
          "height": 17
        },
        "id": "MFgh3hI70rLX",
        "outputId": "df926e69-fda0-4a7e-d526-55489c3ee8c3"
      },
      "source": [
        "RESULT_DIR = ROOT_DIR + \"Fine_tuning/\"\n",
        "test01 = open(RESULT_DIR + \"fine_tuning01.txt\", 'w')\n",
        "test01.writelines(fine_tuning01)\n",
        "test01.close()"
      ],
      "execution_count": 95,
      "outputs": [
        {
          "output_type": "display_data",
          "data": {
            "text/html": [
              "<style>pre { white-space: pre-wrap; }</style>"
            ],
            "text/plain": [
              "<IPython.core.display.HTML object>"
            ]
          },
          "metadata": {}
        }
      ]
    },
    {
      "cell_type": "markdown",
      "metadata": {
        "id": "8WGcI9wh6Yjk"
      },
      "source": [
        "## 1 텍스트 자료 저장"
      ]
    },
    {
      "cell_type": "code",
      "metadata": {
        "colab": {
          "base_uri": "https://localhost:8080/",
          "height": 17
        },
        "id": "IGyimXFlsx2o",
        "outputId": "450f3958-d264-4731-d26e-7561c21a9755"
      },
      "source": [
        "import re\n",
        "\n",
        "path1 = \"/content/here/MyDrive/FaceID/Fine_tuning/fine_tuning01.txt\"\n",
        "path2 = \"/content/here/MyDrive/FaceID/Fine_tuning/fine_tuning02.txt\"\n",
        "\n",
        "# 1. read files: string lists\n",
        "fine_tuning_file1 = open(path1)\n",
        "fine_tuning_file2 = open(path2)\n",
        "content1 = fine_tuning_file1.readlines()\n",
        "content2 = fine_tuning_file2.readlines()"
      ],
      "execution_count": 96,
      "outputs": [
        {
          "output_type": "display_data",
          "data": {
            "text/html": [
              "<style>pre { white-space: pre-wrap; }</style>"
            ],
            "text/plain": [
              "<IPython.core.display.HTML object>"
            ]
          },
          "metadata": {}
        }
      ]
    },
    {
      "cell_type": "markdown",
      "metadata": {
        "id": "Roi4i-HL6cEm"
      },
      "source": [
        "## 2 줄 단위로 텍스트 추출"
      ]
    },
    {
      "cell_type": "code",
      "metadata": {
        "colab": {
          "base_uri": "https://localhost:8080/",
          "height": 1000
        },
        "id": "xrCyb4YGsyvW",
        "outputId": "abaa56f0-324e-4a4a-8c62-c76a6c264038"
      },
      "source": [
        "train_lines1, valid_lines1, train_lines2, valid_lines2 = [], [], [], []\n",
        "line_lists = [train_lines1, valid_lines1, train_lines2, valid_lines2]\n",
        "\n",
        "for i in range(8):\n",
        "    train_lines1.append(content1[3 + i*5])\n",
        "    valid_lines1.append(content1[4 + i*5])\n",
        "\n",
        "for i in range(10):\n",
        "    train_lines2.append(content2[3 + i*5])\n",
        "    valid_lines2.append(content2[4 + i*5])\n",
        "\n",
        "for li in line_lists:\n",
        "    for line in li:\n",
        "        print(line)"
      ],
      "execution_count": 97,
      "outputs": [
        {
          "output_type": "display_data",
          "data": {
            "text/html": [
              "<style>pre { white-space: pre-wrap; }</style>"
            ],
            "text/plain": [
              "<IPython.core.display.HTML object>"
            ]
          },
          "metadata": {}
        },
        {
          "output_type": "stream",
          "name": "stdout",
          "text": [
            "Train |   174/174  | loss:    4.5792 | fps:    9.2119 | acc:    0.0830   \n",
            "\n",
            "Train |   174/174  | loss:    2.3902 | fps:    9.6076 | acc:    0.4032   \n",
            "\n",
            "Train |   174/174  | loss:    1.0903 | fps:    9.5416 | acc:    0.7293   \n",
            "\n",
            "Train |   174/174  | loss:    0.5100 | fps:    9.5267 | acc:    0.8797   \n",
            "\n",
            "Train |   174/174  | loss:    0.2890 | fps:    8.9395 | acc:    0.9370   \n",
            "\n",
            "Train |   174/174  | loss:    0.1190 | fps:    9.0287 | acc:    0.9790   \n",
            "\n",
            "Train |   174/174  | loss:    0.0677 | fps:    9.2442 | acc:    0.9907   \n",
            "\n",
            "Train |   174/174  | loss:    0.0546 | fps:    9.4453 | acc:    0.9925   \n",
            "\n",
            "Valid |    44/44   | loss:    4.4895 | fps:   28.4783 | acc:    0.0745   \n",
            "\n",
            "Valid |    44/44   | loss:    2.0684 | fps:   27.7559 | acc:    0.4327   \n",
            "\n",
            "Valid |    44/44   | loss:    2.1898 | fps:   27.8677 | acc:    0.4786   \n",
            "\n",
            "Valid |    44/44   | loss:    0.8549 | fps:   27.7706 | acc:    0.7635   \n",
            "\n",
            "Valid |    44/44   | loss:    0.5499 | fps:   26.3761 | acc:    0.8484   \n",
            "\n",
            "Valid |    44/44   | loss:    0.1956 | fps:   27.0960 | acc:    0.9482   \n",
            "\n",
            "Valid |    44/44   | loss:    0.1828 | fps:   27.9821 | acc:    0.9524   \n",
            "\n",
            "Valid |    44/44   | loss:    0.1710 | fps:   28.0204 | acc:    0.9531 \n",
            "\n",
            "Train |  5693/5693 | loss:    3.3106 | fps:   10.2670 | acc:    0.2260   \n",
            "\n",
            "Train |  5693/5693 | loss:    1.0629 | fps:   11.2976 | acc:    0.6912   \n",
            "\n",
            "Train |  5693/5693 | loss:    0.5812 | fps:   11.2516 | acc:    0.8256   \n",
            "\n",
            "Train |  5693/5693 | loss:    0.3997 | fps:   11.2056 | acc:    0.8793   \n",
            "\n",
            "Train |  5693/5693 | loss:    0.2945 | fps:   11.2004 | acc:    0.9092   \n",
            "\n",
            "Train |  5693/5693 | loss:    0.1063 | fps:   11.2462 | acc:    0.9661   \n",
            "\n",
            "Train |  5693/5693 | loss:    0.0715 | fps:   11.2044 | acc:    0.9767   \n",
            "\n",
            "Train |  5693/5693 | loss:    0.0607 | fps:   11.5880 | acc:    0.9797   \n",
            "\n",
            "Train |  5693/5693 | loss:    0.0535 | fps:   11.6075 | acc:    0.9816   \n",
            "\n",
            "Train |  5693/5693 | loss:    0.0491 | fps:   11.5842 | acc:    0.9827   \n",
            "\n",
            "Valid |  1424/1424 | loss:    1.5108 | fps:   36.6531 | acc:    0.5558   \n",
            "\n",
            "Valid |  1424/1424 | loss:    0.4457 | fps:   36.3513 | acc:    0.8689   \n",
            "\n",
            "Valid |  1424/1424 | loss:    0.3030 | fps:   36.6162 | acc:    0.9075   \n",
            "\n",
            "Valid |  1424/1424 | loss:    0.2673 | fps:   36.5400 | acc:    0.9157\n",
            "\n",
            "Valid |  1424/1424 | loss:    0.3371 | fps:   36.2728 | acc:    0.8997   \n",
            "\n",
            "Valid |  1424/1424 | loss:    0.0561 | fps:   36.3452 | acc:    0.9823   \n",
            "\n",
            "Valid |  1424/1424 | loss:    0.0520 | fps:   37.7104 | acc:    0.9824   \n",
            "\n",
            "Valid |  1424/1424 | loss:    0.0489 | fps:   37.9057 | acc:    0.9837   \n",
            "\n",
            "Valid |  1424/1424 | loss:    0.0498 | fps:   37.7392 | acc:    0.9830   \n",
            "\n",
            "Valid |  1424/1424 | loss:    0.0484 | fps:   37.5482 | acc:    0.9830   \n",
            "\n"
          ]
        }
      ]
    },
    {
      "cell_type": "markdown",
      "metadata": {
        "id": "hmNLjFH86hAW"
      },
      "source": [
        "# 3 수치 데이터 추출\n",
        "- `str`에서 `int`나 `float`으로 반드시 형변환 해줄 것. "
      ]
    },
    {
      "cell_type": "code",
      "metadata": {
        "colab": {
          "base_uri": "https://localhost:8080/",
          "height": 182
        },
        "id": "K9MJmPhk5dEp",
        "outputId": "34a043d6-839a-4f6b-cc50-2fb499df3ed0"
      },
      "source": [
        "train_loss_1, valid_loss_1, train_loss_2, valid_loss_2 = [], [], [], []\n",
        "train_acc_1, valid_acc_1, train_acc_2, valid_acc_2 = [], [], [], []\n",
        "\n",
        "loss_results = [train_loss_1, valid_loss_1, train_loss_2, valid_loss_2]\n",
        "acc_results  = [train_acc_1, valid_acc_1, train_acc_2, valid_acc_2]\n",
        "\n",
        "loss_pattern = \"loss:\\s+\\d+\\.\\d+\"\n",
        "acc_pattern  =  \"acc:\\s+\\d+\\.\\d+\"\n",
        "value_pattern = \"\\d+\\.\\d+\"\n",
        "\n",
        "for i, line_list in enumerate(line_lists):\n",
        "    for line in line_list: \n",
        "        loss_t = re.search(loss_pattern, line).group()\n",
        "        loss_t = re.search(value_pattern, loss_t).group()\n",
        "        loss_results[i].append(float(loss_t))\n",
        "        acc_t = re.search(acc_pattern, line).group()\n",
        "        acc_t = re.search(value_pattern, acc_t).group()\n",
        "        acc_results[i].append(float(acc_t))\n",
        "\n",
        "print(train_loss_1)\n",
        "print(valid_loss_1)\n",
        "print(train_loss_2)\n",
        "print(valid_loss_2)\n",
        "print()\n",
        "print(train_acc_1)\n",
        "print(valid_acc_1)\n",
        "print(train_acc_2)\n",
        "print(valid_acc_2)"
      ],
      "execution_count": 165,
      "outputs": [
        {
          "output_type": "display_data",
          "data": {
            "text/html": [
              "<style>pre { white-space: pre-wrap; }</style>"
            ],
            "text/plain": [
              "<IPython.core.display.HTML object>"
            ]
          },
          "metadata": {}
        },
        {
          "output_type": "stream",
          "name": "stdout",
          "text": [
            "[4.5792, 2.3902, 1.0903, 0.51, 0.289, 0.119, 0.0677, 0.0546]\n",
            "[4.4895, 2.0684, 2.1898, 0.8549, 0.5499, 0.1956, 0.1828, 0.171]\n",
            "[3.3106, 1.0629, 0.5812, 0.3997, 0.2945, 0.1063, 0.0715, 0.0607, 0.0535, 0.0491]\n",
            "[1.5108, 0.4457, 0.303, 0.2673, 0.3371, 0.0561, 0.052, 0.0489, 0.0498, 0.0484]\n",
            "\n",
            "[0.083, 0.4032, 0.7293, 0.8797, 0.937, 0.979, 0.9907, 0.9925]\n",
            "[0.0745, 0.4327, 0.4786, 0.7635, 0.8484, 0.9482, 0.9524, 0.9531]\n",
            "[0.226, 0.6912, 0.8256, 0.8793, 0.9092, 0.9661, 0.9767, 0.9797, 0.9816, 0.9827]\n",
            "[0.5558, 0.8689, 0.9075, 0.9157, 0.8997, 0.9823, 0.9824, 0.9837, 0.983, 0.983]\n"
          ]
        }
      ]
    },
    {
      "cell_type": "markdown",
      "metadata": {
        "id": "57JeoG5p7Eyq"
      },
      "source": [
        "# 4 그래프 비교\n",
        "미세조정 훈련1: "
      ]
    },
    {
      "cell_type": "code",
      "metadata": {
        "colab": {
          "base_uri": "https://localhost:8080/",
          "height": 17
        },
        "id": "0TXeEnQY2PqN",
        "outputId": "8e8ce19b-08c9-4d3c-c988-325ebdd47db0"
      },
      "source": [
        "import itertools\n",
        "\n",
        "#def flatten(nested_list):\n",
        "def flatten(nested_list):\n",
        "    flat_list = list(itertools.chain(*nested_list))\n",
        "    flat_list = [float(number) for number in flat_list]\n",
        "    return flat_list\n",
        "\n",
        "def nested_minmax(nested_list):\n",
        "    flat_list = flatten(nested_list)\n",
        "    max = np.max(flat_list)\n",
        "    min = np.min(flat_list)\n",
        "    return min, max"
      ],
      "execution_count": 172,
      "outputs": [
        {
          "output_type": "display_data",
          "data": {
            "text/html": [
              "<style>pre { white-space: pre-wrap; }</style>"
            ],
            "text/plain": [
              "<IPython.core.display.HTML object>"
            ]
          },
          "metadata": {}
        }
      ]
    },
    {
      "cell_type": "code",
      "metadata": {
        "colab": {
          "base_uri": "https://localhost:8080/",
          "height": 779
        },
        "id": "VpEwHUAP-2v5",
        "outputId": "956c3b7a-b024-4d78-dea6-2c085c3c9759"
      },
      "source": [
        "epochs01 = np.arange(0, len(train_values01))\n",
        "epochs02 = np.arange(0, len(train_values02))\n",
        "\n",
        "profile = \"미세조정 1: 인물 400명 사진 8,000장\\n미세조정 2: 인물 400명 사진 144,000장\"\n",
        "title_label = [\"손실 비교\", \"정확도 비교\"]\n",
        "results = [loss_results, acc_results]\n",
        "\n",
        "for i in range(2):\n",
        "    fig, ax = plt.subplots(figsize=(7, 5))\n",
        "    ax.plot(epochs01, results[i][0], c='blue', label=\"미세조정 훈련 1\")\n",
        "    ax.plot(epochs01, results[i][1], c='dodgerblue', label=\"미세조정 검정 1\")\n",
        "    ax.plot(epochs02, results[i][2], c='red', label=\"미세조정 훈련 2\")\n",
        "    ax.plot(epochs02, results[i][3], c='coral', label=\"미세조정 검정 2\")\n",
        "    ax.set_xlim(-0.5, 9.5)\n",
        "    ax.set_ylim()\n",
        "    ax.set_title(profile)\n",
        "    plt.suptitle(title_label[i], fontsize=25, y=1.05)\n",
        "    plt.legend()\n",
        "    plt.tight_layout()\n",
        "    plt.savefig(f\"/content/here/MyDrive/FaceID/Fine_tuning/{title_label[i]}.png\")    \n",
        "plt.show()"
      ],
      "execution_count": 202,
      "outputs": [
        {
          "output_type": "display_data",
          "data": {
            "text/html": [
              "<style>pre { white-space: pre-wrap; }</style>"
            ],
            "text/plain": [
              "<IPython.core.display.HTML object>"
            ]
          },
          "metadata": {}
        },
        {
          "output_type": "display_data",
          "data": {
            "image/png": "[encoded data removed]",
            "text/plain": [
              "<Figure size 504x360 with 1 Axes>"
            ]
          },
          "metadata": {
            "needs_background": "light"
          }
        },
        {
          "output_type": "display_data",
          "data": {
            "image/png": "[encoded data removed]",
            "text/plain": [
              "<Figure size 504x360 with 1 Axes>"
            ]
          },
          "metadata": {
            "needs_background": "light"
          }
        }
      ]
    }
  ]
}
